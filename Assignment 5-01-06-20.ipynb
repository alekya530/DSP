{
 "cells": [
  {
   "cell_type": "markdown",
   "metadata": {},
   "source": [
    "# Password Picker\n",
    "#  Write a code to genernate Password"
   ]
  },
  {
   "cell_type": "code",
   "execution_count": 1,
   "metadata": {},
   "outputs": [
    {
     "name": "stdout",
     "output_type": "stream",
     "text": [
      "goodHyderabad37/\n",
      "Want another password? [Y/N] Y\n",
      "happyHyderabad78'\n",
      "Want another password? [Y/N] Y\n",
      "coolgitam74>\n",
      "Want another password? [Y/N] Y\n",
      "coolgitam37>\n",
      "Want another password? [Y/N] Y\n",
      "fairHyderabad14`\n",
      "Want another password? [Y/N] Y\n",
      "fairdog8#\n",
      "Want another password? [Y/N] Y\n",
      "badLaptop99*\n",
      "Want another password? [Y/N] Y\n",
      "fairLaptop62'\n",
      "Want another password? [Y/N] n\n"
     ]
    }
   ],
   "source": [
    "import random,string\n",
    "\n",
    "def passwordGenerator():\n",
    "    \n",
    "    adjectives =[\"good\", \"bad\", \"fair\", \"cool\", \"happy\"]\n",
    "    noun = [\"gitam\", \"Hyderabad\",\"Dhyanahita\",\"Laptop\",\"dog\"]\n",
    "   \n",
    "    password =random.choice(adjectives)+random.choice(noun)+str(random.randint(1,100))+random.choice(string.punctuation)\n",
    "    print(password)\n",
    "    \n",
    "\n",
    "passwordGenerator()\n",
    "choice = str(input(\"Want another password? [Y/N] \"))\n",
    "while(choice.upper() == \"Y\"):\n",
    "    passwordGenerator()\n",
    "    choice = str(input(\"Want another password? [Y/N] \"))"
   ]
  },
  {
   "cell_type": "code",
   "execution_count": null,
   "metadata": {},
   "outputs": [],
   "source": []
  }
 ],
 "metadata": {
  "kernelspec": {
   "display_name": "Python 3",
   "language": "python",
   "name": "python3"
  },
  "language_info": {
   "codemirror_mode": {
    "name": "ipython",
    "version": 3
   },
   "file_extension": ".py",
   "mimetype": "text/x-python",
   "name": "python",
   "nbconvert_exporter": "python",
   "pygments_lexer": "ipython3",
   "version": "3.7.6"
  }
 },
 "nbformat": 4,
 "nbformat_minor": 4
}
